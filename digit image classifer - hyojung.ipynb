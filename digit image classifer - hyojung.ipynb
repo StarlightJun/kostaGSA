{
 "cells": [
  {
   "cell_type": "markdown",
   "metadata": {},
   "source": [
    "## MNIST 숫자 이미지 인식 문제 -> Regression OR Classification?"
   ]
  },
  {
   "cell_type": "code",
   "execution_count": 1,
   "metadata": {},
   "outputs": [
    {
     "name": "stderr",
     "output_type": "stream",
     "text": [
      "C:\\Users\\hyojung\\AppData\\Local\\Continuum\\anaconda3\\lib\\site-packages\\h5py\\__init__.py:36: FutureWarning: Conversion of the second argument of issubdtype from `float` to `np.floating` is deprecated. In future, it will be treated as `np.float64 == np.dtype(float).type`.\n",
      "  from ._conv import register_converters as _register_converters\n",
      "Using TensorFlow backend.\n"
     ]
    }
   ],
   "source": [
    "import numpy\n",
    "from keras.datasets import mnist\n",
    "from keras.models import Sequential\n",
    "from keras.layers import Dense\n",
    "from keras.layers import Dropout\n",
    "from keras.utils import np_utils"
   ]
  },
  {
   "cell_type": "markdown",
   "metadata": {},
   "source": [
    "### MNIST 데이터 로딩 (train/test split이 바로 지원)"
   ]
  },
  {
   "cell_type": "code",
   "execution_count": 3,
   "metadata": {},
   "outputs": [],
   "source": [
    "# load data\n",
    "(X_train, y_train), (X_test, y_test) = mnist.load_data()"
   ]
  },
  {
   "cell_type": "markdown",
   "metadata": {},
   "source": [
    "### 이미지 4개를 테스트로 그레이 스케일로 출력"
   ]
  },
  {
   "cell_type": "code",
   "execution_count": 4,
   "metadata": {},
   "outputs": [
    {
     "data": {
      "image/png": "[encoded data removed]",
      "text/plain": [
       "<matplotlib.figure.Figure at 0x1875ccf8>"
      ]
     },
     "metadata": {},
     "output_type": "display_data"
    }
   ],
   "source": [
    "import matplotlib.pyplot as plt\n",
    "\n",
    "plt.subplot(221)\n",
    "plt.imshow(X_train[0], cmap=plt.get_cmap('gray'))\n",
    "plt.subplot(222)\n",
    "plt.imshow(X_train[1], cmap=plt.get_cmap('gray'))\n",
    "plt.subplot(223)\n",
    "plt.imshow(X_train[2], cmap=plt.get_cmap('gray'))\n",
    "plt.subplot(224)\n",
    "plt.imshow(X_train[3], cmap=plt.get_cmap('gray'))\n",
    "# show the plot\n",
    "plt.show()"
   ]
  },
  {
   "cell_type": "markdown",
   "metadata": {},
   "source": [
    "### 이미지 정보를 이제 일차원 리스트로 변경"
   ]
  },
  {
   "cell_type": "code",
   "execution_count": 5,
   "metadata": {},
   "outputs": [
    {
     "data": {
      "text/plain": [
       "(60000, 28, 28)"
      ]
     },
     "execution_count": 5,
     "metadata": {},
     "output_type": "execute_result"
    }
   ],
   "source": [
    "X_train.shape"
   ]
  },
  {
   "cell_type": "code",
   "execution_count": 6,
   "metadata": {},
   "outputs": [
    {
     "name": "stdout",
     "output_type": "stream",
     "text": [
      "784\n"
     ]
    }
   ],
   "source": [
    "# flatten 28*28(이차원) images to a 784 vector(1차원) for each image\n",
    "num_pixels = X_train.shape[1] * X_train.shape[2]\n",
    "X_train_cnv = X_train.reshape(X_train.shape[0], num_pixels).astype('float32')\n",
    "X_test_cnv = X_test.reshape(X_test.shape[0], num_pixels).astype('float32')\n",
    "print(num_pixels)"
   ]
  },
  {
   "cell_type": "markdown",
   "metadata": {},
   "source": [
    "### 이미지의 스케일을 0-255에서 0-1로 변경"
   ]
  },
  {
   "cell_type": "code",
   "execution_count": 11,
   "metadata": {},
   "outputs": [],
   "source": [
    "X_train_cnv = X_train_cnv / 255\n",
    "X_test_cnv = X_test_cnv / 255"
   ]
  },
  {
   "cell_type": "markdown",
   "metadata": {},
   "source": [
    "### Classification 결과에 대해 One-hot encoding 수행 "
   ]
  },
  {
   "cell_type": "code",
   "execution_count": 12,
   "metadata": {},
   "outputs": [
    {
     "name": "stdout",
     "output_type": "stream",
     "text": [
      "[7 2 1 ... 4 5 6]\n"
     ]
    }
   ],
   "source": [
    "print(y_test) # 아래 결과를 one hot encoding으로 바꾸어야 마지막 softmax적용이 가능"
   ]
  },
  {
   "cell_type": "code",
   "execution_count": 13,
   "metadata": {},
   "outputs": [],
   "source": [
    "y_train = np_utils.to_categorical(y_train) # one hot encoding을 수행하는 함수가 categorical\n",
    "y_test = np_utils.to_categorical(y_test)\n",
    "num_classes = y_test.shape[1]"
   ]
  },
  {
   "cell_type": "code",
   "execution_count": 14,
   "metadata": {},
   "outputs": [
    {
     "name": "stdout",
     "output_type": "stream",
     "text": [
      "[[0. 0. 0. ... 1. 0. 0.]\n",
      " [0. 0. 1. ... 0. 0. 0.]\n",
      " [0. 1. 0. ... 0. 0. 0.]\n",
      " ...\n",
      " [0. 0. 0. ... 0. 0. 0.]\n",
      " [0. 0. 0. ... 0. 0. 0.]\n",
      " [0. 0. 0. ... 0. 0. 0.]]\n"
     ]
    }
   ],
   "source": [
    "print(y_test)"
   ]
  },
  {
   "cell_type": "markdown",
   "metadata": {},
   "source": [
    "### NN 모델 빌딩"
   ]
  },
  {
   "cell_type": "code",
   "execution_count": 15,
   "metadata": {},
   "outputs": [],
   "source": [
    "model = Sequential()\n",
    "model.add(Dense(num_pixels, input_dim=num_pixels, kernel_initializer='normal', activation='relu'))\n",
    "model.add(Dense(num_classes, kernel_initializer='normal', activation='softmax'))\n",
    "\n",
    "# 모델 컴파일\n",
    "model.compile(loss='categorical_crossentropy', optimizer='adam', metrics=['accuracy'])"
   ]
  },
  {
   "cell_type": "markdown",
   "metadata": {},
   "source": [
    "### 텐서보드 추가하기:\n",
    "로그 디렉토리를 지정하여 텐서 보드를 실행가능: 로컬 PC의 anaconda command에서  \"tensorboard --logdir c:/Users/hyojung/python-data-tutorial/keras/log\" 수행. 그리고 화면에 나온 http://0.0.0.0:6006 (?)를 브라우저에 copy하여 수행. IE는 잘 안되므로 Firefox에서 수행"
   ]
  },
  {
   "cell_type": "code",
   "execution_count": 16,
   "metadata": {},
   "outputs": [
    {
     "name": "stdout",
     "output_type": "stream",
     "text": [
      "Epoch 1/10\n",
      " - 7s - loss: 1.5233 - acc: 0.6592\n",
      "Epoch 2/10\n",
      " - 7s - loss: 0.6060 - acc: 0.8527\n",
      "Epoch 3/10\n",
      " - 7s - loss: 0.4276 - acc: 0.8872\n",
      "Epoch 4/10\n",
      " - 7s - loss: 0.3646 - acc: 0.8987\n",
      "Epoch 5/10\n",
      " - 7s - loss: 0.3320 - acc: 0.9059\n",
      "Epoch 6/10\n",
      " - 7s - loss: 0.3116 - acc: 0.9112\n",
      "Epoch 7/10\n",
      " - 8s - loss: 0.2969 - acc: 0.9150\n",
      "Epoch 8/10\n",
      " - 8s - loss: 0.2849 - acc: 0.9186\n",
      "Epoch 9/10\n",
      " - 8s - loss: 0.2747 - acc: 0.9212\n",
      "Epoch 10/10\n",
      " - 7s - loss: 0.2648 - acc: 0.9237\n",
      "Baseline Error: 7.47%\n"
     ]
    }
   ],
   "source": [
    "from keras.callbacks import TensorBoard #tensorflow가 학습 즉 epoch을 수행하면서 자신의 상태를 tensorboard에게 넘겨줌\n",
    "tensorboard = TensorBoard(log_dir='/Users/hyojung/python-data-tutorial/keras/log', histogram_freq=0,\n",
    "                          write_graph=True, write_images=False)\n",
    "\n",
    "# 모델 학습\n",
    "model.fit(X_train_cnv,\n",
    "    y_train,\n",
    "    epochs=10,\n",
    "    batch_size=200,\n",
    "    verbose=2,\n",
    "    callbacks=[tensorboard]\n",
    ")\n",
    "\n",
    "# 모델 정확도 분석 (scikit-learn의 score에 해당)\n",
    "scores = model.evaluate(X_test_cnv, y_test, verbose=0)\n",
    "print(\"Baseline Error: %.2f%%\" % (100-scores[1]*100))"
   ]
  },
  {
   "cell_type": "code",
   "execution_count": 17,
   "metadata": {},
   "outputs": [
    {
     "name": "stdout",
     "output_type": "stream",
     "text": [
      "_________________________________________________________________\n",
      "Layer (type)                 Output Shape              Param #   \n",
      "=================================================================\n",
      "dense_1 (Dense)              (None, 784)               615440    \n",
      "_________________________________________________________________\n",
      "dense_2 (Dense)              (None, 10)                7850      \n",
      "=================================================================\n",
      "Total params: 623,290\n",
      "Trainable params: 623,290\n",
      "Non-trainable params: 0\n",
      "_________________________________________________________________\n"
     ]
    }
   ],
   "source": [
    "model.summary()"
   ]
  },
  {
   "cell_type": "markdown",
   "metadata": {},
   "source": [
    "## Now let's try to load a digit image and see how it works"
   ]
  },
  {
   "cell_type": "markdown",
   "metadata": {},
   "source": [
    "### Predict using one from training set"
   ]
  },
  {
   "cell_type": "code",
   "execution_count": 31,
   "metadata": {
    "scrolled": true
   },
   "outputs": [
    {
     "data": {
      "image/png": "[encoded data removed]",
      "text/plain": [
       "<matplotlib.figure.Figure at 0x2d2037b8>"
      ]
     },
     "metadata": {},
     "output_type": "display_data"
    },
    {
     "name": "stdout",
     "output_type": "stream",
     "text": [
      "[0]\n"
     ]
    }
   ],
   "source": [
    "plt.imshow(X_train[1])\n",
    "plt.show()\n",
    "\n",
    "input = X_train_cnv[1]\n",
    "X = input.reshape(1,784)\n",
    "pr = model.predict_classes(X)\n",
    "print (pr)"
   ]
  },
  {
   "cell_type": "markdown",
   "metadata": {},
   "source": [
    "### Predict using digit image from directory"
   ]
  },
  {
   "cell_type": "markdown",
   "metadata": {},
   "source": [
    "#### Image conversion to 28*28 and save it \"output.jpg\""
   ]
  },
  {
   "cell_type": "code",
   "execution_count": 32,
   "metadata": {},
   "outputs": [],
   "source": [
    "from PIL import Image, ImageFilter\n",
    "import PIL.ImageOps \n",
    "from numpy import array\n",
    "\n",
    "class ScaleUtils():\n",
    "    def __init__(self, p, h=28, w=28):\n",
    "        self.im = Image.open(p)\n",
    "        self.size = (h,w)\n",
    "    def toGrey(self):\n",
    "        self.im = self.im.convert(\"L\")\n",
    "        return self\n",
    "    def resize(self):\n",
    "        self.im = self.im.resize(self.size)\n",
    "        return self\n",
    "    def invert(self):\n",
    "        self.im = PIL.ImageOps.invert(self.im)\n",
    "        return self\n",
    "    def getArray(self):\n",
    "        return array(self.im)\n",
    "    def getImage(self):\n",
    "        return self.im\n",
    "    def run(self):\n",
    "        return self.toGrey().resize().getArray()\n",
    "    \n",
    "# this particular one requires invert\n",
    "ScaleUtils(\"/Users/hyojung/python-data-tutorial/digit_image/test_9_digit.png\").toGrey().resize().invert().getImage().save(\"output.jpg\", \"JPEG\")"
   ]
  },
  {
   "cell_type": "markdown",
   "metadata": {},
   "source": [
    "#### Predict conversioned image at \"output.jpg\""
   ]
  },
  {
   "cell_type": "code",
   "execution_count": 35,
   "metadata": {},
   "outputs": [
    {
     "name": "stderr",
     "output_type": "stream",
     "text": [
      "C:\\Users\\hyojung\\AppData\\Local\\Continuum\\anaconda3\\lib\\site-packages\\ipykernel_launcher.py:5: DeprecationWarning: `imread` is deprecated!\n",
      "`imread` is deprecated in SciPy 1.0.0, and will be removed in 1.2.0.\n",
      "Use ``imageio.imread`` instead.\n",
      "  \"\"\"\n"
     ]
    },
    {
     "data": {
      "image/png": "[encoded data removed]",
      "text/plain": [
       "<matplotlib.figure.Figure at 0x2e230d68>"
      ]
     },
     "metadata": {},
     "output_type": "display_data"
    },
    {
     "name": "stdout",
     "output_type": "stream",
     "text": [
      "[9]\n"
     ]
    }
   ],
   "source": [
    "# 테스트 이미지가 output.jpg에 있음. \n",
    "from scipy.misc import imread\n",
    "import matplotlib.pyplot as plt\n",
    "\n",
    "im = imread(\"output.jpg\")\n",
    "plt.imshow(im)\n",
    "plt.show()\n",
    "\n",
    "input = im\n",
    "X = input.reshape(1,784)\n",
    "pr = model.predict_classes(X)\n",
    "print (pr)"
   ]
  },
  {
   "cell_type": "code",
   "execution_count": null,
   "metadata": {},
   "outputs": [],
   "source": []
  }
 ],
 "metadata": {
  "kernelspec": {
   "display_name": "Python 3",
   "language": "python",
   "name": "python3"
  },
  "language_info": {
   "codemirror_mode": {
    "name": "ipython",
    "version": 3
   },
   "file_extension": ".py",
   "mimetype": "text/x-python",
   "name": "python",
   "nbconvert_exporter": "python",
   "pygments_lexer": "ipython3",
   "version": "3.6.4"
  }
 },
 "nbformat": 4,
 "nbformat_minor": 2
}
